{
 "cells": [
  {
   "cell_type": "markdown",
   "id": "0d781041-03d2-4fcb-b0ab-b64b1799f2c2",
   "metadata": {},
   "source": [
    "\n",
    "# CONVOLUTIONAL NEUTRAL NETWORKS\n",
    "\n",
    "todo:\n",
    "Each layer of NN tries to extract specific features. For examples, when it comes to images: the first few layers focuses on a details like edges, corners and curvers, but the last few layers detects more general features - the domimant objects. From particular to general.\n"
   ]
  },
  {
   "cell_type": "code",
   "execution_count": null,
   "id": "07267aec-10e6-4fc3-beb8-d5657162376f",
   "metadata": {},
   "outputs": [],
   "source": []
  }
 ],
 "metadata": {
  "kernelspec": {
   "display_name": "Python 3 (ipykernel)",
   "language": "python",
   "name": "python3"
  },
  "language_info": {
   "codemirror_mode": {
    "name": "ipython",
    "version": 3
   },
   "file_extension": ".py",
   "mimetype": "text/x-python",
   "name": "python",
   "nbconvert_exporter": "python",
   "pygments_lexer": "ipython3",
   "version": "3.12.3"
  }
 },
 "nbformat": 4,
 "nbformat_minor": 5
}
